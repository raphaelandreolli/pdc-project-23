{
  "nbformat": 4,
  "nbformat_minor": 0,
  "metadata": {
    "colab": {
      "provenance": []
    },
    "kernelspec": {
      "name": "python3",
      "display_name": "Python 3"
    },
    "language_info": {
      "name": "python"
    }
  },
  "cells": [
    {
      "cell_type": "markdown",
      "source": [
        "**First, We investigate the CUDA version, drivers and the avaiable GPU with nvidia-smi and nvcc-version**\n"
      ],
      "metadata": {
        "id": "O_XdehkHnIL-"
      }
    },
    {
      "cell_type": "code",
      "source": [
        "!nvcc --version\n",
        "!nvidia-smi"
      ],
      "metadata": {
        "id": "NBoDGFesmGfn"
      },
      "execution_count": null,
      "outputs": []
    },
    {
      "cell_type": "code",
      "source": [
        "!git clone https://github.com/raphaelandreolli/pdc-project-23.git"
      ],
      "metadata": {
        "colab": {
          "base_uri": "https://localhost:8080/"
        },
        "id": "RWtZ26qRhZeT",
        "outputId": "4f69afec-7052-44f1-fdcd-626de4bd62f4"
      },
      "execution_count": 2,
      "outputs": [
        {
          "output_type": "stream",
          "name": "stdout",
          "text": [
            "Cloning into 'pdc-project-23'...\n",
            "remote: Enumerating objects: 90, done.\u001b[K\n",
            "remote: Counting objects: 100% (90/90), done.\u001b[K\n",
            "remote: Compressing objects: 100% (60/60), done.\u001b[K\n",
            "remote: Total 90 (delta 23), reused 81 (delta 16), pack-reused 0\u001b[K\n",
            "Receiving objects: 100% (90/90), 625.75 KiB | 2.11 MiB/s, done.\n",
            "Resolving deltas: 100% (23/23), done.\n"
          ]
        }
      ]
    },
    {
      "cell_type": "markdown",
      "source": [
        "**Now we write the Energy_Storms CUDA code and save it as 'energy_stroms_cuda.cu'**\n"
      ],
      "metadata": {
        "id": "fh9B4wOPlaha"
      }
    },
    {
      "cell_type": "code",
      "execution_count": 1,
      "metadata": {
        "colab": {
          "base_uri": "https://localhost:8080/"
        },
        "id": "phbbSrC2f0N8",
        "outputId": "2d5b0f38-d49a-4a56-c703-015ec381ed4e"
      },
      "outputs": [
        {
          "output_type": "stream",
          "name": "stdout",
          "text": [
            "Writing energy_storms_cuda.cu\n"
          ]
        }
      ],
      "source": [
        "%%writefile energy_storms_cuda.cu\n",
        "/*\n",
        " * Simplified simulation of high-energy particle storms\n",
        " *\n",
        " * Parallel computing (Degree in Computer Engineering)\n",
        " * 2017/2018\n",
        " *\n",
        " * Version: 2.0\n",
        " *\n",
        " * Code prepared to be used with the Tablon on-line judge.\n",
        " * The current Parallel Computing course includes contests using:\n",
        " * OpenMP, MPI, and CUDA.\n",
        " *\n",
        " * (c) 2018 Arturo Gonzalez-Escribano, Eduardo Rodriguez-Gutiez\n",
        " * Grupo Trasgo, Universidad de Valladolid (Spain)\n",
        " *\n",
        " * This work is licensed under a Creative Commons Attribution-ShareAlike 4.0 International License.\n",
        " * https://creativecommons.org/licenses/by-sa/4.0/\n",
        " */\n",
        "#include<stdio.h>\n",
        "#include<stdlib.h>\n",
        "#include<string.h>\n",
        "#include<math.h>\n",
        "#include<limits.h>\n",
        "#include<sys/time.h>\n",
        "\n",
        "/* Headers for the CUDA assignment versions */\n",
        "#include<cuda.h>\n",
        "\n",
        "/*\n",
        " * Macros to show errors when calling a CUDA library function,\n",
        " * or after launching a kernel\n",
        " */\n",
        "#define CHECK_CUDA_CALL( a )\t{ \\\n",
        "\tcudaError_t ok = a; \\\n",
        "\tif ( ok != cudaSuccess ) \\\n",
        "\t\tfprintf(stderr, \"-- Error CUDA call in line %d: %s\\n\", __LINE__, cudaGetErrorString( ok ) ); \\\n",
        "\t}\n",
        "#define CHECK_CUDA_LAST()\t{ \\\n",
        "\tcudaError_t ok = cudaGetLastError(); \\\n",
        "\tif ( ok != cudaSuccess ) \\\n",
        "\t\tfprintf(stderr, \"-- Error CUDA last in line %d: %s\\n\", __LINE__, cudaGetErrorString( ok ) ); \\\n",
        "\t}\n",
        "\n",
        "\n",
        "/* Use fopen function in local tests. The Tablon online judge software\n",
        "   substitutes it by a different function to run in its sandbox */\n",
        "#ifdef CP_TABLON\n",
        "#include \"cputilstablon.h\"\n",
        "#else\n",
        "#define    cp_open_file(name) fopen(name,\"r\")\n",
        "#endif\n",
        "\n",
        "/* Function to get wall time */\n",
        "double cp_Wtime(){\n",
        "    struct timeval tv;\n",
        "    gettimeofday(&tv, NULL);\n",
        "    return tv.tv_sec + 1.0e-6 * tv.tv_usec;\n",
        "}\n",
        "\n",
        "\n",
        "#define THRESHOLD    0.001f\n",
        "#define RAD 1\n",
        "#define TPB 256\n",
        "#define RAND_MIN -1.0\n",
        "\n",
        "/* Structure used to store data for one storm of particles */\n",
        "typedef struct {\n",
        "    int size;    // Number of particles\n",
        "    int *posval; // Positions and values\n",
        "} Storm;\n",
        "\n",
        "\n",
        "\n",
        "/* Kernel Function to update energy due to particle bombardment on cells */\n",
        "__global__ void kernelupdate( float *d_layer,float *h_layer, int layer_size, Storm storms) {\n",
        "\n",
        "//global thread index\n",
        "    int k = blockIdx.x * blockDim.x + threadIdx.x;\n",
        "\n",
        "//local thread index for local shared array\n",
        "\tconst int s_idx = threadIdx.x + RAD;\n",
        "\n",
        "//dynamic shared memory\n",
        "\textern __shared__ float s_in[];\n",
        "\n",
        "    if (k >= layer_size) return;\n",
        "\n",
        "\n",
        "\n",
        "\tfloat energy_value = 0.0f ;\n",
        "\tfor (int i=0; i<storms.size; i++)\n",
        "\t{\n",
        " /* 1. Compute the absolute value of the distance between the impact position and the k-th position of the layer */\n",
        "\t\tfloat energy = storms.posval[i*2+1] * 1000;\n",
        "\t\tint distance = abs(storms.posval[i*2] - k) + 1;\n",
        "\t\tfloat attenuation = sqrtf(static_cast<float>(distance));\n",
        "     /*  Compute attenuated energy */\n",
        "\t\tfloat energy_k = energy / layer_size / attenuation;\n",
        "\n",
        "\n",
        "\t\tif (energy_k >= THRESHOLD / layer_size || energy_k <= -THRESHOLD / layer_size)\n",
        "\t\t{\n",
        "\t\t\tenergy_value +=energy_k;\n",
        "\t    }\n",
        "\t}\n",
        "\n",
        "  /*  Add intermediate impacts energies before relaxation to  cells */\n",
        "\th_layer[k]=h_layer[k]+energy_value;\n",
        "\t__syncthreads();\n",
        "\n",
        "//copying data from global to local shared array\n",
        "\ts_in[s_idx] = h_layer[k];\n",
        "\tif (threadIdx.x < RAD) {\n",
        "\t\tif (k==0){\n",
        "\t\t\ts_in[s_idx - RAD] = h_layer[k];\n",
        "\t\t\t}\n",
        "\t\telse {\n",
        "\t\t\t\ts_in[s_idx - RAD] = h_layer[k - RAD];\n",
        "\t\t\t\t}\n",
        "\t\ts_in[s_idx + blockDim.x] = h_layer[k + blockDim.x];\n",
        "\t}\n",
        "\t__syncthreads();\n",
        "\n",
        "   /*  Energy relaxation between storms, preserving first and last element */\n",
        "    if ( k == 0 || k == layer_size-1 ) {\n",
        "\t\td_layer[k]=h_layer[k];\n",
        "    }\n",
        "\telse {\n",
        "\t\td_layer[k] = (s_in[s_idx-1]+ s_in[s_idx] + s_in[s_idx+1])/3;\n",
        "\t}\n",
        "}\n",
        "\n",
        "\n",
        "/* ANCILLARY FUNCTIONS: These are not called from the code section which is measured, leave untouched */\n",
        "/* DEBUG function: Prints the layer status */\n",
        "void debug_print(int layer_size, float *layer, int *positions, float *maximum, int num_storms ) {\n",
        "    int i,k;\n",
        "    /* Only print for array size up to 35 (change it for bigger sizes if needed) */\n",
        "    if ( layer_size <= 35 ) {\n",
        "        /* Traverse layer */\n",
        "        for( k=0; k<layer_size; k++ ) {\n",
        "            /* Print the energy value of the current cell */\n",
        "            printf(\"%10.4f |\", layer[k] );\n",
        "\n",
        "            /* Compute the number of characters.\n",
        "               This number is normalized, the maximum level is depicted with 60 characters */\n",
        "            int ticks = (int)( 60 * layer[k] / maximum[num_storms-1] );\n",
        "\n",
        "            /* Print all characters except the last one */\n",
        "            for (i=0; i<ticks-1; i++ ) printf(\"o\");\n",
        "\n",
        "            /* If the cell is a local maximum print a special trailing character */\n",
        "            if ( k>0 && k<layer_size-1 && layer[k] > layer[k-1] && layer[k] > layer[k+1] )\n",
        "                printf(\"x\");\n",
        "            else\n",
        "                printf(\"o\");\n",
        "\n",
        "            /* If the cell is the maximum of any storm, print the storm mark */\n",
        "            for (i=0; i<num_storms; i++)\n",
        "                if ( positions[i] == k ) printf(\" M%d\", i );\n",
        "\n",
        "            /* Line feed */\n",
        "            printf(\"\\n\");\n",
        "        }\n",
        "    }\n",
        "}\n",
        "\n",
        "/*\n",
        " * Function: Read data of particle storms from a file\n",
        " */\n",
        "Storm read_storm_file( char *fname ) {\n",
        "    FILE *fstorm = cp_open_file( fname );\n",
        "    if ( fstorm == NULL ) {\n",
        "        fprintf(stderr,\"Error: Opening storm file %s\\n\", fname );\n",
        "        exit( EXIT_FAILURE );\n",
        "    }\n",
        "\n",
        "    Storm storm;\n",
        "    int ok = fscanf(fstorm, \"%d\", &(storm.size) );\n",
        "    if ( ok != 1 ) {\n",
        "        fprintf(stderr,\"Error: Reading size of storm file %s\\n\", fname );\n",
        "        exit( EXIT_FAILURE );\n",
        "    }\n",
        "\n",
        "    storm.posval = (int *)malloc( sizeof(int) * storm.size * 2 );\n",
        "    if ( storm.posval == NULL ) {\n",
        "        fprintf(stderr,\"Error: Allocating memory for storm file %s, with size %d\\n\", fname, storm.size );\n",
        "        exit( EXIT_FAILURE );\n",
        "    }\n",
        "\n",
        "    int elem;\n",
        "    for ( elem=0; elem<storm.size; elem++ ) {\n",
        "        ok = fscanf(fstorm, \"%d %d\\n\",\n",
        "                    &(storm.posval[elem*2]),\n",
        "                    &(storm.posval[elem*2+1]) );\n",
        "        if ( ok != 2 ) {\n",
        "            fprintf(stderr,\"Error: Reading element %d in storm file %s\\n\", elem, fname );\n",
        "            exit( EXIT_FAILURE );\n",
        "        }\n",
        "    }\n",
        "    fclose( fstorm );\n",
        "\n",
        "    return storm;\n",
        "}\n",
        "\n",
        "/*\n",
        " * MAIN PROGRAM\n",
        " */\n",
        "int main(int argc, char *argv[]) {\n",
        "    int i,k;\n",
        "\n",
        "    /* 1.1. Read arguments */\n",
        "    if (argc<3) {\n",
        "        fprintf(stderr,\"Usage: %s <size> <storm_1_file> [ <storm_i_file> ] ... \\n\", argv[0] );\n",
        "        exit( EXIT_FAILURE );\n",
        "    }\n",
        "\n",
        "    int layer_size = atoi( argv[1] );\n",
        "    int num_storms = argc-2;\n",
        "    int numBlocks = (atoi( argv[1] ) + TPB - 1) / TPB; // Number of blocks needed\n",
        "\n",
        "    Storm storms[ num_storms ];\n",
        "\n",
        "    /* 1.2. Read storms information */\n",
        "    for( i=2; i<argc; i++ )\n",
        "        storms[i-2] = read_storm_file( argv[i] );\n",
        "\n",
        "    /* 1.3. Intialize maximum levels to zero */\n",
        "    float maximum[ num_storms ];\n",
        "    int positions[ num_storms ];\n",
        "    for (i=0; i<num_storms; i++) {\n",
        "        maximum[i] = 0.0f;\n",
        "        positions[i] = 0;\n",
        "    }\n",
        "\n",
        "    /* 2. Begin time measurement */\n",
        "\tCHECK_CUDA_CALL( cudaSetDevice(0) );\n",
        "\tCHECK_CUDA_CALL( cudaDeviceSynchronize() );\n",
        "    double ttotal = cp_Wtime();\n",
        "\n",
        "    /* START: Do NOT optimize/parallelize the code of the main program above this point */\n",
        "\n",
        "    /* 3. Allocate memory for the layer and initialize to zero */\n",
        "    float *layer = (float *)malloc( sizeof(float) * layer_size );\n",
        "\n",
        "    if ( layer == NULL  ) {\n",
        "        fprintf(stderr,\"Error: Allocating the layer memory\\n\");\n",
        "        exit( EXIT_FAILURE );\n",
        "    }\n",
        "    for( k=0; k<layer_size; k++ ) layer[k] = 0.0f;\n",
        "\n",
        "\n",
        "    /* 4. Storms simulation */\n",
        "    for( i=0; i<num_storms; i++) {\n",
        "\n",
        " // Load storm to device memory\n",
        "\t    Storm storm;\n",
        "\t    storm.size= storms[i].size;\n",
        "\t    size_t size1=2*storms[i].size* sizeof(int);\n",
        "\t    cudaMalloc(&storm.posval, size1);\n",
        "        cudaMemcpy(storm.posval, storms[i].posval, size1,\n",
        "               cudaMemcpyHostToDevice);\n",
        "\n",
        "// Allocate layer and intermediate layer (h_layer) before relaxation in device memory\n",
        "\t    float *d_layer;\n",
        "\t\tcudaMalloc( &d_layer,sizeof(float) * layer_size );\n",
        "\n",
        "\t    float *h_layer;\n",
        "\t\tcudaMalloc( &h_layer,sizeof(float) * layer_size );\n",
        "\n",
        "// Copy layer from host CPU to device GPU\n",
        "\t\tcudaMemcpy(h_layer, layer, layer_size * sizeof(float), cudaMemcpyHostToDevice);\n",
        "\n",
        "\n",
        "        dim3 blockDim(TPB);\n",
        "        dim3 gridDim(numBlocks);\n",
        "\n",
        "//Size for shared memory array\n",
        "        const size_t smemSize = (blockDim.x + 2 * RAD) * sizeof(float);\n",
        "\n",
        "// Invoke kernel\n",
        "\t\tkernelupdate<<<gridDim, blockDim,smemSize>>>(d_layer, h_layer, layer_size, storm);\n",
        "        cudaDeviceSynchronize() ;\n",
        "\n",
        "// Read layer from device memory\n",
        "\t\tsize_t size=sizeof(float) * layer_size;\n",
        "\t    cudaMemcpy(layer, d_layer, size,\n",
        "               cudaMemcpyDeviceToHost);\n",
        "\n",
        "// Free device memory\n",
        "    cudaFree(h_layer);\n",
        "\t\tcudaFree(d_layer);\n",
        "\n",
        "        /* 4.3. Locate the maximum value in the layer, and its position */\n",
        "        for( k=1; k<layer_size-1; k++ ) {\n",
        "            /* Check it only if it is a local maximum */\n",
        "            if ( layer[k] > layer[k-1] && layer[k] > layer[k+1] ) {\n",
        "                if ( layer[k] > maximum[i] ) {\n",
        "                    maximum[i] = layer[k];\n",
        "                    positions[i] = k;\n",
        "                }\n",
        "            }\n",
        "        }\n",
        "    }\n",
        "\n",
        "    /* END: Do NOT optimize/parallelize the code below this point */\n",
        "\n",
        "    /* 5. End time measurement */\n",
        "\tCHECK_CUDA_CALL( cudaDeviceSynchronize() );\n",
        "    ttotal = cp_Wtime() - ttotal;\n",
        "\n",
        "    /* 6. DEBUG: Plot the result (only for layers up to 35 points) */\n",
        "    #ifdef DEBUG\n",
        "    debug_print( layer_size, layer, positions, maximum, num_storms );\n",
        "    #endif\n",
        "\n",
        "    /* 7. Results output, used by the Tablon online judge software */\n",
        "    printf(\"\\n\");\n",
        "    /* 7.1. Total computation time */\n",
        "    printf(\"Time: %lf\\n\", ttotal );\n",
        "    /* 7.2. Print the maximum levels */\n",
        "    printf(\"Result:\");\n",
        "    for (i=0; i<num_storms; i++)\n",
        "        printf(\" %d %f\", positions[i], maximum[i] );\n",
        "    printf(\"\\n\");\n",
        "\n",
        "    /* 8. Free resources */\n",
        "    for( i=0; i<argc-2; i++ )\n",
        "        free( storms[i].posval );\n",
        "\n",
        "    /* 9. Program ended successfully */\n",
        "    return 0;\n",
        "}\n"
      ]
    },
    {
      "cell_type": "markdown",
      "source": [
        "**Next We compile the saved cuda code with the makefile**"
      ],
      "metadata": {
        "id": "Goetqx8klvzq"
      }
    },
    {
      "cell_type": "code",
      "source": [
        "!make energy_storms"
      ],
      "metadata": {
        "id": "dsmU_H8agS2Z"
      },
      "execution_count": null,
      "outputs": []
    },
    {
      "cell_type": "markdown",
      "source": [
        "**To compile either do make with above command if you have the correct make file or compile with nvcc command below**"
      ],
      "metadata": {
        "id": "sBRcchYrhn-s"
      }
    },
    {
      "cell_type": "code",
      "source": [
        "!nvcc energy_storms_cuda.cu -o energy_storms\n",
        "!ls"
      ],
      "metadata": {
        "id": "66UHLNOihkOi"
      },
      "execution_count": null,
      "outputs": []
    },
    {
      "cell_type": "markdown",
      "source": [
        "**You can also do profiling with nvprof command below with one of the tests**"
      ],
      "metadata": {
        "id": "xxIZDSKpiBiv"
      }
    },
    {
      "cell_type": "code",
      "source": [
        "!nvprof ./energy_storms 1000000 test_files/test_07_a1M_p5k_w1 test_files/test_07_a1M_p5k_w2 test_files/test_07_a1M_p5k_w3 test_files/test_07_a1M_p5k_w4"
      ],
      "metadata": {
        "id": "xH1xFkYiiIB4"
      },
      "execution_count": null,
      "outputs": []
    },
    {
      "cell_type": "markdown",
      "source": [
        "**Finally, we execute the binary of the compiled code with different tests**\n",
        "\n",
        "\n",
        "\n"
      ],
      "metadata": {
        "id": "jYUIucdIh5vB"
      }
    },
    {
      "cell_type": "code",
      "source": [
        "!./energy_storms 35 project_files/test_files/test_01_a35_p8_w1 project_files/test_files/test_01_a35_p7_w2 project_files/test_files/test_01_a35_p5_w3 project_files/test_files/test_01_a35_p8_w4"
      ],
      "metadata": {
        "id": "fqeG3K2zh5Jz"
      },
      "execution_count": null,
      "outputs": []
    },
    {
      "cell_type": "code",
      "source": [
        "!./energy_storms 30000 project_files/test_files/test_02_a30k_p20k_w1 project_files/test_files/test_02_a30k_p20k_w2 project_files/test_files/test_02_a30k_p20k_w3 project_files/test_files/test_02_a30k_p20k_w4 project_files/test_files/test_02_a30k_p20k_w5 project_files/test_files/test_02_a30k_p20k_w6"
      ],
      "metadata": {
        "id": "UwYq7_nIib5y"
      },
      "execution_count": null,
      "outputs": []
    },
    {
      "cell_type": "code",
      "source": [
        "!./energy_storms 20 project_files/test_files/test_03_a20_p4_w1"
      ],
      "metadata": {
        "id": "gC1U7BMuifHz"
      },
      "execution_count": null,
      "outputs": []
    },
    {
      "cell_type": "code",
      "source": [
        "!./energy_storms 20 project_files/test_files/test_04_a20_p4_w1"
      ],
      "metadata": {
        "id": "OhKiRNvxig2g"
      },
      "execution_count": null,
      "outputs": []
    },
    {
      "cell_type": "code",
      "source": [
        "!./energy_storms 20 project_files/test_files/test_05_a20_p4_w1"
      ],
      "metadata": {
        "id": "7cXa66ivii8A"
      },
      "execution_count": null,
      "outputs": []
    },
    {
      "cell_type": "code",
      "source": [
        "!./energy_storms 20 project_files/test_files/test_06_a20_p4_w1"
      ],
      "metadata": {
        "id": "BNYo1K56ijpO"
      },
      "execution_count": null,
      "outputs": []
    },
    {
      "cell_type": "code",
      "source": [
        "!./energy_storms 1000000 project_files/test_files/test_07_a1M_p5k_w1 project_files/test_files/test_07_a1M_p5k_w2 project_files/test_files/test_07_a1M_p5k_w3 project_files/test_files/test_07_a1M_p5k_w4"
      ],
      "metadata": {
        "id": "gjz7VlcrilZK"
      },
      "execution_count": null,
      "outputs": []
    },
    {
      "cell_type": "code",
      "source": [
        "!./energy_storms 100000000 project_files/test_files/test_08_a100M_p1_w1 project_files/test_files/test_08_a100M_p1_w2 project_files/test_files/test_08_a100M_p1_w3"
      ],
      "metadata": {
        "id": "YzYo6DAsindY"
      },
      "execution_count": null,
      "outputs": []
    },
    {
      "cell_type": "code",
      "source": [
        "!./energy_storms 16 project_files/test_files/test_09_a16_p3_w1"
      ],
      "metadata": {
        "id": "wBscgnnHipZk"
      },
      "execution_count": null,
      "outputs": []
    },
    {
      "cell_type": "code",
      "source": [
        "!./energy_storms 17 project_files/test_files/test_09_a17_p3_w1"
      ],
      "metadata": {
        "id": "H-xqOs7airM0"
      },
      "execution_count": null,
      "outputs": []
    },
    {
      "cell_type": "code",
      "source": [],
      "metadata": {
        "id": "0pcfvqX-h3kf"
      },
      "execution_count": null,
      "outputs": []
    }
  ]
}